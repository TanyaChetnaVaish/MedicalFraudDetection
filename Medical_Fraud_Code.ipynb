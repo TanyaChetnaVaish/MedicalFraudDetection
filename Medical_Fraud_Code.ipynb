{
 "cells": [
  {
   "cell_type": "markdown",
   "metadata": {},
   "source": [
    "## Importing libraries"
   ]
  },
  {
   "cell_type": "code",
   "execution_count": 1,
   "metadata": {},
   "outputs": [],
   "source": [
    "import pandas as pd\n",
    "import numpy as np\n",
    "import matplotlib.pyplot as plt\n",
    "import seaborn as sns\n",
    "%matplotlib inline\n",
    "import warnings\n",
    "warnings.filterwarnings(\"ignore\")"
   ]
  },
  {
   "cell_type": "code",
   "execution_count": 2,
   "metadata": {},
   "outputs": [
    {
     "data": {
      "text/plain": [
       "'C:\\\\Users\\\\TANYA\\\\Desktop\\\\Medical_Fraud_Data'"
      ]
     },
     "execution_count": 2,
     "metadata": {},
     "output_type": "execute_result"
    }
   ],
   "source": [
    "import os\n",
    "os.getcwd()"
   ]
  },
  {
   "cell_type": "markdown",
   "metadata": {},
   "source": [
    "## Reading the data"
   ]
  },
  {
   "cell_type": "code",
   "execution_count": 3,
   "metadata": {},
   "outputs": [],
   "source": [
    "beneficiary_data = pd.read_csv(\"C:\\\\Users\\\\TANYA\\\\Desktop\\\\Medical_Fraud_Data\\\\Train_Beneficiarydata-1542865627584.csv\")\n",
    "inpatient_data = pd.read_csv(\"C:\\\\Users\\\\TANYA\\\\Desktop\\\\Medical_Fraud_Data\\\\Train_Inpatientdata-1542865627584.csv\")\n",
    "outpatient_data = pd.read_csv(\"C:\\\\Users\\\\TANYA\\\\Desktop\\\\Medical_Fraud_Data\\\\Train_Outpatientdata-1542865627584.csv\")\n",
    "train_data = pd.read_csv(\"C:\\\\Users\\\\TANYA\\\\Desktop\\\\Medical_Fraud_Data\\\\Train-1542865627584.csv\")"
   ]
  },
  {
   "cell_type": "markdown",
   "metadata": {},
   "source": [
    "## Visualising the Data"
   ]
  },
  {
   "cell_type": "code",
   "execution_count": 4,
   "metadata": {},
   "outputs": [
    {
     "data": {
      "text/html": [
       "<div>\n",
       "<style scoped>\n",
       "    .dataframe tbody tr th:only-of-type {\n",
       "        vertical-align: middle;\n",
       "    }\n",
       "\n",
       "    .dataframe tbody tr th {\n",
       "        vertical-align: top;\n",
       "    }\n",
       "\n",
       "    .dataframe thead th {\n",
       "        text-align: right;\n",
       "    }\n",
       "</style>\n",
       "<table border=\"1\" class=\"dataframe\">\n",
       "  <thead>\n",
       "    <tr style=\"text-align: right;\">\n",
       "      <th></th>\n",
       "      <th>BeneID</th>\n",
       "      <th>DOB</th>\n",
       "      <th>DOD</th>\n",
       "      <th>Gender</th>\n",
       "      <th>Race</th>\n",
       "      <th>RenalDiseaseIndicator</th>\n",
       "      <th>State</th>\n",
       "      <th>County</th>\n",
       "      <th>NoOfMonths_PartACov</th>\n",
       "      <th>NoOfMonths_PartBCov</th>\n",
       "      <th>...</th>\n",
       "      <th>ChronicCond_Depression</th>\n",
       "      <th>ChronicCond_Diabetes</th>\n",
       "      <th>ChronicCond_IschemicHeart</th>\n",
       "      <th>ChronicCond_Osteoporasis</th>\n",
       "      <th>ChronicCond_rheumatoidarthritis</th>\n",
       "      <th>ChronicCond_stroke</th>\n",
       "      <th>IPAnnualReimbursementAmt</th>\n",
       "      <th>IPAnnualDeductibleAmt</th>\n",
       "      <th>OPAnnualReimbursementAmt</th>\n",
       "      <th>OPAnnualDeductibleAmt</th>\n",
       "    </tr>\n",
       "  </thead>\n",
       "  <tbody>\n",
       "    <tr>\n",
       "      <th>0</th>\n",
       "      <td>BENE11001</td>\n",
       "      <td>1943-01-01</td>\n",
       "      <td>NaN</td>\n",
       "      <td>1</td>\n",
       "      <td>1</td>\n",
       "      <td>0</td>\n",
       "      <td>39</td>\n",
       "      <td>230</td>\n",
       "      <td>12</td>\n",
       "      <td>12</td>\n",
       "      <td>...</td>\n",
       "      <td>1</td>\n",
       "      <td>1</td>\n",
       "      <td>1</td>\n",
       "      <td>2</td>\n",
       "      <td>1</td>\n",
       "      <td>1</td>\n",
       "      <td>36000</td>\n",
       "      <td>3204</td>\n",
       "      <td>60</td>\n",
       "      <td>70</td>\n",
       "    </tr>\n",
       "    <tr>\n",
       "      <th>1</th>\n",
       "      <td>BENE11002</td>\n",
       "      <td>1936-09-01</td>\n",
       "      <td>NaN</td>\n",
       "      <td>2</td>\n",
       "      <td>1</td>\n",
       "      <td>0</td>\n",
       "      <td>39</td>\n",
       "      <td>280</td>\n",
       "      <td>12</td>\n",
       "      <td>12</td>\n",
       "      <td>...</td>\n",
       "      <td>2</td>\n",
       "      <td>2</td>\n",
       "      <td>2</td>\n",
       "      <td>2</td>\n",
       "      <td>2</td>\n",
       "      <td>2</td>\n",
       "      <td>0</td>\n",
       "      <td>0</td>\n",
       "      <td>30</td>\n",
       "      <td>50</td>\n",
       "    </tr>\n",
       "    <tr>\n",
       "      <th>2</th>\n",
       "      <td>BENE11003</td>\n",
       "      <td>1936-08-01</td>\n",
       "      <td>NaN</td>\n",
       "      <td>1</td>\n",
       "      <td>1</td>\n",
       "      <td>0</td>\n",
       "      <td>52</td>\n",
       "      <td>590</td>\n",
       "      <td>12</td>\n",
       "      <td>12</td>\n",
       "      <td>...</td>\n",
       "      <td>2</td>\n",
       "      <td>2</td>\n",
       "      <td>1</td>\n",
       "      <td>2</td>\n",
       "      <td>2</td>\n",
       "      <td>2</td>\n",
       "      <td>0</td>\n",
       "      <td>0</td>\n",
       "      <td>90</td>\n",
       "      <td>40</td>\n",
       "    </tr>\n",
       "    <tr>\n",
       "      <th>3</th>\n",
       "      <td>BENE11004</td>\n",
       "      <td>1922-07-01</td>\n",
       "      <td>NaN</td>\n",
       "      <td>1</td>\n",
       "      <td>1</td>\n",
       "      <td>0</td>\n",
       "      <td>39</td>\n",
       "      <td>270</td>\n",
       "      <td>12</td>\n",
       "      <td>12</td>\n",
       "      <td>...</td>\n",
       "      <td>2</td>\n",
       "      <td>1</td>\n",
       "      <td>1</td>\n",
       "      <td>1</td>\n",
       "      <td>1</td>\n",
       "      <td>2</td>\n",
       "      <td>0</td>\n",
       "      <td>0</td>\n",
       "      <td>1810</td>\n",
       "      <td>760</td>\n",
       "    </tr>\n",
       "    <tr>\n",
       "      <th>4</th>\n",
       "      <td>BENE11005</td>\n",
       "      <td>1935-09-01</td>\n",
       "      <td>NaN</td>\n",
       "      <td>1</td>\n",
       "      <td>1</td>\n",
       "      <td>0</td>\n",
       "      <td>24</td>\n",
       "      <td>680</td>\n",
       "      <td>12</td>\n",
       "      <td>12</td>\n",
       "      <td>...</td>\n",
       "      <td>2</td>\n",
       "      <td>1</td>\n",
       "      <td>2</td>\n",
       "      <td>2</td>\n",
       "      <td>2</td>\n",
       "      <td>2</td>\n",
       "      <td>0</td>\n",
       "      <td>0</td>\n",
       "      <td>1790</td>\n",
       "      <td>1200</td>\n",
       "    </tr>\n",
       "  </tbody>\n",
       "</table>\n",
       "<p>5 rows × 25 columns</p>\n",
       "</div>"
      ],
      "text/plain": [
       "      BeneID         DOB  DOD  Gender  Race RenalDiseaseIndicator  State  \\\n",
       "0  BENE11001  1943-01-01  NaN       1     1                     0     39   \n",
       "1  BENE11002  1936-09-01  NaN       2     1                     0     39   \n",
       "2  BENE11003  1936-08-01  NaN       1     1                     0     52   \n",
       "3  BENE11004  1922-07-01  NaN       1     1                     0     39   \n",
       "4  BENE11005  1935-09-01  NaN       1     1                     0     24   \n",
       "\n",
       "   County  NoOfMonths_PartACov  NoOfMonths_PartBCov  ...  \\\n",
       "0     230                   12                   12  ...   \n",
       "1     280                   12                   12  ...   \n",
       "2     590                   12                   12  ...   \n",
       "3     270                   12                   12  ...   \n",
       "4     680                   12                   12  ...   \n",
       "\n",
       "   ChronicCond_Depression  ChronicCond_Diabetes  ChronicCond_IschemicHeart  \\\n",
       "0                       1                     1                          1   \n",
       "1                       2                     2                          2   \n",
       "2                       2                     2                          1   \n",
       "3                       2                     1                          1   \n",
       "4                       2                     1                          2   \n",
       "\n",
       "   ChronicCond_Osteoporasis  ChronicCond_rheumatoidarthritis  \\\n",
       "0                         2                                1   \n",
       "1                         2                                2   \n",
       "2                         2                                2   \n",
       "3                         1                                1   \n",
       "4                         2                                2   \n",
       "\n",
       "   ChronicCond_stroke  IPAnnualReimbursementAmt  IPAnnualDeductibleAmt  \\\n",
       "0                   1                     36000                   3204   \n",
       "1                   2                         0                      0   \n",
       "2                   2                         0                      0   \n",
       "3                   2                         0                      0   \n",
       "4                   2                         0                      0   \n",
       "\n",
       "   OPAnnualReimbursementAmt  OPAnnualDeductibleAmt  \n",
       "0                        60                     70  \n",
       "1                        30                     50  \n",
       "2                        90                     40  \n",
       "3                      1810                    760  \n",
       "4                      1790                   1200  \n",
       "\n",
       "[5 rows x 25 columns]"
      ]
     },
     "execution_count": 4,
     "metadata": {},
     "output_type": "execute_result"
    }
   ],
   "source": [
    "beneficiary_data.head()"
   ]
  },
  {
   "cell_type": "code",
   "execution_count": 5,
   "metadata": {},
   "outputs": [
    {
     "data": {
      "text/html": [
       "<div>\n",
       "<style scoped>\n",
       "    .dataframe tbody tr th:only-of-type {\n",
       "        vertical-align: middle;\n",
       "    }\n",
       "\n",
       "    .dataframe tbody tr th {\n",
       "        vertical-align: top;\n",
       "    }\n",
       "\n",
       "    .dataframe thead th {\n",
       "        text-align: right;\n",
       "    }\n",
       "</style>\n",
       "<table border=\"1\" class=\"dataframe\">\n",
       "  <thead>\n",
       "    <tr style=\"text-align: right;\">\n",
       "      <th></th>\n",
       "      <th>BeneID</th>\n",
       "      <th>ClaimID</th>\n",
       "      <th>ClaimStartDt</th>\n",
       "      <th>ClaimEndDt</th>\n",
       "      <th>Provider</th>\n",
       "      <th>InscClaimAmtReimbursed</th>\n",
       "      <th>AttendingPhysician</th>\n",
       "      <th>OperatingPhysician</th>\n",
       "      <th>OtherPhysician</th>\n",
       "      <th>AdmissionDt</th>\n",
       "      <th>...</th>\n",
       "      <th>ClmDiagnosisCode_7</th>\n",
       "      <th>ClmDiagnosisCode_8</th>\n",
       "      <th>ClmDiagnosisCode_9</th>\n",
       "      <th>ClmDiagnosisCode_10</th>\n",
       "      <th>ClmProcedureCode_1</th>\n",
       "      <th>ClmProcedureCode_2</th>\n",
       "      <th>ClmProcedureCode_3</th>\n",
       "      <th>ClmProcedureCode_4</th>\n",
       "      <th>ClmProcedureCode_5</th>\n",
       "      <th>ClmProcedureCode_6</th>\n",
       "    </tr>\n",
       "  </thead>\n",
       "  <tbody>\n",
       "    <tr>\n",
       "      <th>4991</th>\n",
       "      <td>BENE28926</td>\n",
       "      <td>CLM67855</td>\n",
       "      <td>2009-09-13</td>\n",
       "      <td>2009-09-18</td>\n",
       "      <td>PRV57284</td>\n",
       "      <td>4000</td>\n",
       "      <td>PHY367706</td>\n",
       "      <td>NaN</td>\n",
       "      <td>NaN</td>\n",
       "      <td>2009-09-13</td>\n",
       "      <td>...</td>\n",
       "      <td>5362</td>\n",
       "      <td>E8798</td>\n",
       "      <td>NaN</td>\n",
       "      <td>NaN</td>\n",
       "      <td>NaN</td>\n",
       "      <td>NaN</td>\n",
       "      <td>NaN</td>\n",
       "      <td>NaN</td>\n",
       "      <td>NaN</td>\n",
       "      <td>NaN</td>\n",
       "    </tr>\n",
       "    <tr>\n",
       "      <th>39835</th>\n",
       "      <td>BENE156914</td>\n",
       "      <td>CLM75191</td>\n",
       "      <td>2009-11-08</td>\n",
       "      <td>2009-11-16</td>\n",
       "      <td>PRV54339</td>\n",
       "      <td>7000</td>\n",
       "      <td>PHY424162</td>\n",
       "      <td>PHY402518</td>\n",
       "      <td>NaN</td>\n",
       "      <td>2009-11-08</td>\n",
       "      <td>...</td>\n",
       "      <td>8840</td>\n",
       "      <td>80505</td>\n",
       "      <td>3004</td>\n",
       "      <td>2449</td>\n",
       "      <td>8841.0</td>\n",
       "      <td>NaN</td>\n",
       "      <td>NaN</td>\n",
       "      <td>NaN</td>\n",
       "      <td>NaN</td>\n",
       "      <td>NaN</td>\n",
       "    </tr>\n",
       "    <tr>\n",
       "      <th>21434</th>\n",
       "      <td>BENE89427</td>\n",
       "      <td>CLM79032</td>\n",
       "      <td>2009-12-09</td>\n",
       "      <td>2009-12-12</td>\n",
       "      <td>PRV57227</td>\n",
       "      <td>5000</td>\n",
       "      <td>PHY324704</td>\n",
       "      <td>PHY324704</td>\n",
       "      <td>NaN</td>\n",
       "      <td>2009-12-09</td>\n",
       "      <td>...</td>\n",
       "      <td>4779</td>\n",
       "      <td>42731</td>\n",
       "      <td>1104</td>\n",
       "      <td>NaN</td>\n",
       "      <td>3898.0</td>\n",
       "      <td>NaN</td>\n",
       "      <td>NaN</td>\n",
       "      <td>NaN</td>\n",
       "      <td>NaN</td>\n",
       "      <td>NaN</td>\n",
       "    </tr>\n",
       "    <tr>\n",
       "      <th>31937</th>\n",
       "      <td>BENE127924</td>\n",
       "      <td>CLM45485</td>\n",
       "      <td>2009-04-04</td>\n",
       "      <td>2009-04-09</td>\n",
       "      <td>PRV54676</td>\n",
       "      <td>5000</td>\n",
       "      <td>PHY391553</td>\n",
       "      <td>PHY341013</td>\n",
       "      <td>NaN</td>\n",
       "      <td>2009-04-04</td>\n",
       "      <td>...</td>\n",
       "      <td>4280</td>\n",
       "      <td>4019</td>\n",
       "      <td>NaN</td>\n",
       "      <td>NaN</td>\n",
       "      <td>9390.0</td>\n",
       "      <td>NaN</td>\n",
       "      <td>NaN</td>\n",
       "      <td>NaN</td>\n",
       "      <td>NaN</td>\n",
       "      <td>NaN</td>\n",
       "    </tr>\n",
       "    <tr>\n",
       "      <th>19798</th>\n",
       "      <td>BENE83453</td>\n",
       "      <td>CLM56509</td>\n",
       "      <td>2009-06-21</td>\n",
       "      <td>2009-06-23</td>\n",
       "      <td>PRV52019</td>\n",
       "      <td>6000</td>\n",
       "      <td>PHY410774</td>\n",
       "      <td>NaN</td>\n",
       "      <td>NaN</td>\n",
       "      <td>2009-06-21</td>\n",
       "      <td>...</td>\n",
       "      <td>34831</td>\n",
       "      <td>53081</td>\n",
       "      <td>27651</td>\n",
       "      <td>NaN</td>\n",
       "      <td>NaN</td>\n",
       "      <td>NaN</td>\n",
       "      <td>NaN</td>\n",
       "      <td>NaN</td>\n",
       "      <td>NaN</td>\n",
       "      <td>NaN</td>\n",
       "    </tr>\n",
       "  </tbody>\n",
       "</table>\n",
       "<p>5 rows × 30 columns</p>\n",
       "</div>"
      ],
      "text/plain": [
       "           BeneID   ClaimID ClaimStartDt  ClaimEndDt  Provider  \\\n",
       "4991    BENE28926  CLM67855   2009-09-13  2009-09-18  PRV57284   \n",
       "39835  BENE156914  CLM75191   2009-11-08  2009-11-16  PRV54339   \n",
       "21434   BENE89427  CLM79032   2009-12-09  2009-12-12  PRV57227   \n",
       "31937  BENE127924  CLM45485   2009-04-04  2009-04-09  PRV54676   \n",
       "19798   BENE83453  CLM56509   2009-06-21  2009-06-23  PRV52019   \n",
       "\n",
       "       InscClaimAmtReimbursed AttendingPhysician OperatingPhysician  \\\n",
       "4991                     4000          PHY367706                NaN   \n",
       "39835                    7000          PHY424162          PHY402518   \n",
       "21434                    5000          PHY324704          PHY324704   \n",
       "31937                    5000          PHY391553          PHY341013   \n",
       "19798                    6000          PHY410774                NaN   \n",
       "\n",
       "      OtherPhysician AdmissionDt  ... ClmDiagnosisCode_7  ClmDiagnosisCode_8  \\\n",
       "4991             NaN  2009-09-13  ...               5362               E8798   \n",
       "39835            NaN  2009-11-08  ...               8840               80505   \n",
       "21434            NaN  2009-12-09  ...               4779               42731   \n",
       "31937            NaN  2009-04-04  ...               4280                4019   \n",
       "19798            NaN  2009-06-21  ...              34831               53081   \n",
       "\n",
       "      ClmDiagnosisCode_9 ClmDiagnosisCode_10 ClmProcedureCode_1  \\\n",
       "4991                 NaN                 NaN                NaN   \n",
       "39835               3004                2449             8841.0   \n",
       "21434               1104                 NaN             3898.0   \n",
       "31937                NaN                 NaN             9390.0   \n",
       "19798              27651                 NaN                NaN   \n",
       "\n",
       "      ClmProcedureCode_2 ClmProcedureCode_3 ClmProcedureCode_4  \\\n",
       "4991                 NaN                NaN                NaN   \n",
       "39835                NaN                NaN                NaN   \n",
       "21434                NaN                NaN                NaN   \n",
       "31937                NaN                NaN                NaN   \n",
       "19798                NaN                NaN                NaN   \n",
       "\n",
       "      ClmProcedureCode_5 ClmProcedureCode_6  \n",
       "4991                 NaN                NaN  \n",
       "39835                NaN                NaN  \n",
       "21434                NaN                NaN  \n",
       "31937                NaN                NaN  \n",
       "19798                NaN                NaN  \n",
       "\n",
       "[5 rows x 30 columns]"
      ]
     },
     "execution_count": 5,
     "metadata": {},
     "output_type": "execute_result"
    }
   ],
   "source": [
    "inpatient_data.sample(5)"
   ]
  },
  {
   "cell_type": "code",
   "execution_count": 6,
   "metadata": {},
   "outputs": [
    {
     "data": {
      "text/html": [
       "<div>\n",
       "<style scoped>\n",
       "    .dataframe tbody tr th:only-of-type {\n",
       "        vertical-align: middle;\n",
       "    }\n",
       "\n",
       "    .dataframe tbody tr th {\n",
       "        vertical-align: top;\n",
       "    }\n",
       "\n",
       "    .dataframe thead th {\n",
       "        text-align: right;\n",
       "    }\n",
       "</style>\n",
       "<table border=\"1\" class=\"dataframe\">\n",
       "  <thead>\n",
       "    <tr style=\"text-align: right;\">\n",
       "      <th></th>\n",
       "      <th>BeneID</th>\n",
       "      <th>ClaimID</th>\n",
       "      <th>ClaimStartDt</th>\n",
       "      <th>ClaimEndDt</th>\n",
       "      <th>Provider</th>\n",
       "      <th>InscClaimAmtReimbursed</th>\n",
       "      <th>AttendingPhysician</th>\n",
       "      <th>OperatingPhysician</th>\n",
       "      <th>OtherPhysician</th>\n",
       "      <th>ClmDiagnosisCode_1</th>\n",
       "      <th>...</th>\n",
       "      <th>ClmDiagnosisCode_9</th>\n",
       "      <th>ClmDiagnosisCode_10</th>\n",
       "      <th>ClmProcedureCode_1</th>\n",
       "      <th>ClmProcedureCode_2</th>\n",
       "      <th>ClmProcedureCode_3</th>\n",
       "      <th>ClmProcedureCode_4</th>\n",
       "      <th>ClmProcedureCode_5</th>\n",
       "      <th>ClmProcedureCode_6</th>\n",
       "      <th>DeductibleAmtPaid</th>\n",
       "      <th>ClmAdmitDiagnosisCode</th>\n",
       "    </tr>\n",
       "  </thead>\n",
       "  <tbody>\n",
       "    <tr>\n",
       "      <th>183810</th>\n",
       "      <td>BENE63810</td>\n",
       "      <td>CLM271217</td>\n",
       "      <td>2009-03-28</td>\n",
       "      <td>2009-03-28</td>\n",
       "      <td>PRV52019</td>\n",
       "      <td>500</td>\n",
       "      <td>PHY318062</td>\n",
       "      <td>NaN</td>\n",
       "      <td>PHY416093</td>\n",
       "      <td>V772</td>\n",
       "      <td>...</td>\n",
       "      <td>NaN</td>\n",
       "      <td>NaN</td>\n",
       "      <td>NaN</td>\n",
       "      <td>NaN</td>\n",
       "      <td>NaN</td>\n",
       "      <td>NaN</td>\n",
       "      <td>NaN</td>\n",
       "      <td>NaN</td>\n",
       "      <td>0</td>\n",
       "      <td>NaN</td>\n",
       "    </tr>\n",
       "    <tr>\n",
       "      <th>380786</th>\n",
       "      <td>BENE120082</td>\n",
       "      <td>CLM210744</td>\n",
       "      <td>2009-02-23</td>\n",
       "      <td>2009-02-23</td>\n",
       "      <td>PRV56511</td>\n",
       "      <td>30</td>\n",
       "      <td>PHY355160</td>\n",
       "      <td>NaN</td>\n",
       "      <td>NaN</td>\n",
       "      <td>2449</td>\n",
       "      <td>...</td>\n",
       "      <td>NaN</td>\n",
       "      <td>NaN</td>\n",
       "      <td>NaN</td>\n",
       "      <td>NaN</td>\n",
       "      <td>NaN</td>\n",
       "      <td>NaN</td>\n",
       "      <td>NaN</td>\n",
       "      <td>NaN</td>\n",
       "      <td>0</td>\n",
       "      <td>NaN</td>\n",
       "    </tr>\n",
       "    <tr>\n",
       "      <th>22509</th>\n",
       "      <td>BENE17402</td>\n",
       "      <td>CLM300685</td>\n",
       "      <td>2009-04-13</td>\n",
       "      <td>2009-04-13</td>\n",
       "      <td>PRV53797</td>\n",
       "      <td>90</td>\n",
       "      <td>PHY360043</td>\n",
       "      <td>NaN</td>\n",
       "      <td>NaN</td>\n",
       "      <td>2721</td>\n",
       "      <td>...</td>\n",
       "      <td>NaN</td>\n",
       "      <td>NaN</td>\n",
       "      <td>NaN</td>\n",
       "      <td>NaN</td>\n",
       "      <td>NaN</td>\n",
       "      <td>NaN</td>\n",
       "      <td>NaN</td>\n",
       "      <td>NaN</td>\n",
       "      <td>0</td>\n",
       "      <td>NaN</td>\n",
       "    </tr>\n",
       "    <tr>\n",
       "      <th>183699</th>\n",
       "      <td>BENE63770</td>\n",
       "      <td>CLM331397</td>\n",
       "      <td>2009-04-29</td>\n",
       "      <td>2009-04-30</td>\n",
       "      <td>PRV51574</td>\n",
       "      <td>400</td>\n",
       "      <td>PHY415321</td>\n",
       "      <td>NaN</td>\n",
       "      <td>NaN</td>\n",
       "      <td>27951</td>\n",
       "      <td>...</td>\n",
       "      <td>NaN</td>\n",
       "      <td>NaN</td>\n",
       "      <td>NaN</td>\n",
       "      <td>NaN</td>\n",
       "      <td>NaN</td>\n",
       "      <td>NaN</td>\n",
       "      <td>NaN</td>\n",
       "      <td>NaN</td>\n",
       "      <td>0</td>\n",
       "      <td>NaN</td>\n",
       "    </tr>\n",
       "    <tr>\n",
       "      <th>321400</th>\n",
       "      <td>BENE103162</td>\n",
       "      <td>CLM522824</td>\n",
       "      <td>2009-08-13</td>\n",
       "      <td>2009-08-13</td>\n",
       "      <td>PRV54566</td>\n",
       "      <td>10</td>\n",
       "      <td>PHY370431</td>\n",
       "      <td>NaN</td>\n",
       "      <td>NaN</td>\n",
       "      <td>V5876</td>\n",
       "      <td>...</td>\n",
       "      <td>NaN</td>\n",
       "      <td>NaN</td>\n",
       "      <td>NaN</td>\n",
       "      <td>NaN</td>\n",
       "      <td>NaN</td>\n",
       "      <td>NaN</td>\n",
       "      <td>NaN</td>\n",
       "      <td>NaN</td>\n",
       "      <td>0</td>\n",
       "      <td>NaN</td>\n",
       "    </tr>\n",
       "  </tbody>\n",
       "</table>\n",
       "<p>5 rows × 27 columns</p>\n",
       "</div>"
      ],
      "text/plain": [
       "            BeneID    ClaimID ClaimStartDt  ClaimEndDt  Provider  \\\n",
       "183810   BENE63810  CLM271217   2009-03-28  2009-03-28  PRV52019   \n",
       "380786  BENE120082  CLM210744   2009-02-23  2009-02-23  PRV56511   \n",
       "22509    BENE17402  CLM300685   2009-04-13  2009-04-13  PRV53797   \n",
       "183699   BENE63770  CLM331397   2009-04-29  2009-04-30  PRV51574   \n",
       "321400  BENE103162  CLM522824   2009-08-13  2009-08-13  PRV54566   \n",
       "\n",
       "        InscClaimAmtReimbursed AttendingPhysician OperatingPhysician  \\\n",
       "183810                     500          PHY318062                NaN   \n",
       "380786                      30          PHY355160                NaN   \n",
       "22509                       90          PHY360043                NaN   \n",
       "183699                     400          PHY415321                NaN   \n",
       "321400                      10          PHY370431                NaN   \n",
       "\n",
       "       OtherPhysician ClmDiagnosisCode_1  ... ClmDiagnosisCode_9  \\\n",
       "183810      PHY416093               V772  ...                NaN   \n",
       "380786            NaN               2449  ...                NaN   \n",
       "22509             NaN               2721  ...                NaN   \n",
       "183699            NaN              27951  ...                NaN   \n",
       "321400            NaN              V5876  ...                NaN   \n",
       "\n",
       "       ClmDiagnosisCode_10 ClmProcedureCode_1 ClmProcedureCode_2  \\\n",
       "183810                 NaN                NaN                NaN   \n",
       "380786                 NaN                NaN                NaN   \n",
       "22509                  NaN                NaN                NaN   \n",
       "183699                 NaN                NaN                NaN   \n",
       "321400                 NaN                NaN                NaN   \n",
       "\n",
       "       ClmProcedureCode_3 ClmProcedureCode_4 ClmProcedureCode_5  \\\n",
       "183810                NaN                NaN                NaN   \n",
       "380786                NaN                NaN                NaN   \n",
       "22509                 NaN                NaN                NaN   \n",
       "183699                NaN                NaN                NaN   \n",
       "321400                NaN                NaN                NaN   \n",
       "\n",
       "       ClmProcedureCode_6 DeductibleAmtPaid  ClmAdmitDiagnosisCode  \n",
       "183810                NaN                 0                    NaN  \n",
       "380786                NaN                 0                    NaN  \n",
       "22509                 NaN                 0                    NaN  \n",
       "183699                NaN                 0                    NaN  \n",
       "321400                NaN                 0                    NaN  \n",
       "\n",
       "[5 rows x 27 columns]"
      ]
     },
     "execution_count": 6,
     "metadata": {},
     "output_type": "execute_result"
    }
   ],
   "source": [
    "outpatient_data.sample(5)"
   ]
  },
  {
   "cell_type": "code",
   "execution_count": 7,
   "metadata": {},
   "outputs": [
    {
     "data": {
      "text/html": [
       "<div>\n",
       "<style scoped>\n",
       "    .dataframe tbody tr th:only-of-type {\n",
       "        vertical-align: middle;\n",
       "    }\n",
       "\n",
       "    .dataframe tbody tr th {\n",
       "        vertical-align: top;\n",
       "    }\n",
       "\n",
       "    .dataframe thead th {\n",
       "        text-align: right;\n",
       "    }\n",
       "</style>\n",
       "<table border=\"1\" class=\"dataframe\">\n",
       "  <thead>\n",
       "    <tr style=\"text-align: right;\">\n",
       "      <th></th>\n",
       "      <th>Provider</th>\n",
       "      <th>PotentialFraud</th>\n",
       "    </tr>\n",
       "  </thead>\n",
       "  <tbody>\n",
       "    <tr>\n",
       "      <th>4810</th>\n",
       "      <td>PRV57033</td>\n",
       "      <td>No</td>\n",
       "    </tr>\n",
       "    <tr>\n",
       "      <th>3619</th>\n",
       "      <td>PRV55538</td>\n",
       "      <td>No</td>\n",
       "    </tr>\n",
       "    <tr>\n",
       "      <th>2595</th>\n",
       "      <td>PRV54231</td>\n",
       "      <td>No</td>\n",
       "    </tr>\n",
       "    <tr>\n",
       "      <th>4195</th>\n",
       "      <td>PRV56251</td>\n",
       "      <td>No</td>\n",
       "    </tr>\n",
       "    <tr>\n",
       "      <th>999</th>\n",
       "      <td>PRV52248</td>\n",
       "      <td>No</td>\n",
       "    </tr>\n",
       "  </tbody>\n",
       "</table>\n",
       "</div>"
      ],
      "text/plain": [
       "      Provider PotentialFraud\n",
       "4810  PRV57033             No\n",
       "3619  PRV55538             No\n",
       "2595  PRV54231             No\n",
       "4195  PRV56251             No\n",
       "999   PRV52248             No"
      ]
     },
     "execution_count": 7,
     "metadata": {},
     "output_type": "execute_result"
    }
   ],
   "source": [
    "train_data.sample(5)"
   ]
  },
  {
   "cell_type": "markdown",
   "metadata": {},
   "source": [
    "## Checking Type"
   ]
  },
  {
   "cell_type": "code",
   "execution_count": 8,
   "metadata": {},
   "outputs": [
    {
     "data": {
      "text/plain": [
       "BeneID                             object\n",
       "DOB                                object\n",
       "DOD                                object\n",
       "Gender                              int64\n",
       "Race                                int64\n",
       "RenalDiseaseIndicator              object\n",
       "State                               int64\n",
       "County                              int64\n",
       "NoOfMonths_PartACov                 int64\n",
       "NoOfMonths_PartBCov                 int64\n",
       "ChronicCond_Alzheimer               int64\n",
       "ChronicCond_Heartfailure            int64\n",
       "ChronicCond_KidneyDisease           int64\n",
       "ChronicCond_Cancer                  int64\n",
       "ChronicCond_ObstrPulmonary          int64\n",
       "ChronicCond_Depression              int64\n",
       "ChronicCond_Diabetes                int64\n",
       "ChronicCond_IschemicHeart           int64\n",
       "ChronicCond_Osteoporasis            int64\n",
       "ChronicCond_rheumatoidarthritis     int64\n",
       "ChronicCond_stroke                  int64\n",
       "IPAnnualReimbursementAmt            int64\n",
       "IPAnnualDeductibleAmt               int64\n",
       "OPAnnualReimbursementAmt            int64\n",
       "OPAnnualDeductibleAmt               int64\n",
       "dtype: object"
      ]
     },
     "execution_count": 8,
     "metadata": {},
     "output_type": "execute_result"
    }
   ],
   "source": [
    "beneficiary_data.dtypes"
   ]
  },
  {
   "cell_type": "code",
   "execution_count": 9,
   "metadata": {},
   "outputs": [
    {
     "data": {
      "text/plain": [
       "BeneID                     object\n",
       "ClaimID                    object\n",
       "ClaimStartDt               object\n",
       "ClaimEndDt                 object\n",
       "Provider                   object\n",
       "InscClaimAmtReimbursed      int64\n",
       "AttendingPhysician         object\n",
       "OperatingPhysician         object\n",
       "OtherPhysician             object\n",
       "AdmissionDt                object\n",
       "ClmAdmitDiagnosisCode      object\n",
       "DeductibleAmtPaid         float64\n",
       "DischargeDt                object\n",
       "DiagnosisGroupCode         object\n",
       "ClmDiagnosisCode_1         object\n",
       "ClmDiagnosisCode_2         object\n",
       "ClmDiagnosisCode_3         object\n",
       "ClmDiagnosisCode_4         object\n",
       "ClmDiagnosisCode_5         object\n",
       "ClmDiagnosisCode_6         object\n",
       "ClmDiagnosisCode_7         object\n",
       "ClmDiagnosisCode_8         object\n",
       "ClmDiagnosisCode_9         object\n",
       "ClmDiagnosisCode_10        object\n",
       "ClmProcedureCode_1        float64\n",
       "ClmProcedureCode_2        float64\n",
       "ClmProcedureCode_3        float64\n",
       "ClmProcedureCode_4        float64\n",
       "ClmProcedureCode_5        float64\n",
       "ClmProcedureCode_6        float64\n",
       "dtype: object"
      ]
     },
     "execution_count": 9,
     "metadata": {},
     "output_type": "execute_result"
    }
   ],
   "source": [
    "inpatient_data.dtypes"
   ]
  },
  {
   "cell_type": "code",
   "execution_count": 10,
   "metadata": {},
   "outputs": [
    {
     "data": {
      "text/plain": [
       "BeneID                     object\n",
       "ClaimID                    object\n",
       "ClaimStartDt               object\n",
       "ClaimEndDt                 object\n",
       "Provider                   object\n",
       "InscClaimAmtReimbursed      int64\n",
       "AttendingPhysician         object\n",
       "OperatingPhysician         object\n",
       "OtherPhysician             object\n",
       "ClmDiagnosisCode_1         object\n",
       "ClmDiagnosisCode_2         object\n",
       "ClmDiagnosisCode_3         object\n",
       "ClmDiagnosisCode_4         object\n",
       "ClmDiagnosisCode_5         object\n",
       "ClmDiagnosisCode_6         object\n",
       "ClmDiagnosisCode_7         object\n",
       "ClmDiagnosisCode_8         object\n",
       "ClmDiagnosisCode_9         object\n",
       "ClmDiagnosisCode_10        object\n",
       "ClmProcedureCode_1        float64\n",
       "ClmProcedureCode_2        float64\n",
       "ClmProcedureCode_3        float64\n",
       "ClmProcedureCode_4        float64\n",
       "ClmProcedureCode_5        float64\n",
       "ClmProcedureCode_6        float64\n",
       "DeductibleAmtPaid           int64\n",
       "ClmAdmitDiagnosisCode      object\n",
       "dtype: object"
      ]
     },
     "execution_count": 10,
     "metadata": {},
     "output_type": "execute_result"
    }
   ],
   "source": [
    "outpatient_data.dtypes"
   ]
  },
  {
   "cell_type": "code",
   "execution_count": 11,
   "metadata": {},
   "outputs": [
    {
     "data": {
      "text/plain": [
       "Provider          object\n",
       "PotentialFraud    object\n",
       "dtype: object"
      ]
     },
     "execution_count": 11,
     "metadata": {},
     "output_type": "execute_result"
    }
   ],
   "source": [
    "train_data.dtypes"
   ]
  },
  {
   "cell_type": "markdown",
   "metadata": {},
   "source": [
    "## Number of rows and columns"
   ]
  },
  {
   "cell_type": "code",
   "execution_count": 12,
   "metadata": {},
   "outputs": [
    {
     "name": "stdout",
     "output_type": "stream",
     "text": [
      "(40474, 30)\n",
      "(517737, 27)\n",
      "(5410, 2)\n",
      "(138556, 25)\n"
     ]
    }
   ],
   "source": [
    "print(inpatient_data.shape)\n",
    "print(outpatient_data.shape)\n",
    "print(train_data.shape)\n",
    "print(beneficiary_data.shape)"
   ]
  },
  {
   "cell_type": "markdown",
   "metadata": {},
   "source": [
    "## Merging the Datasets"
   ]
  },
  {
   "cell_type": "code",
   "execution_count": 13,
   "metadata": {},
   "outputs": [],
   "source": [
    "mergeddata1 = inpatient_data.append(outpatient_data,ignore_index=False)"
   ]
  },
  {
   "cell_type": "code",
   "execution_count": 14,
   "metadata": {},
   "outputs": [
    {
     "data": {
      "text/plain": [
       "(558211, 30)"
      ]
     },
     "execution_count": 14,
     "metadata": {},
     "output_type": "execute_result"
    }
   ],
   "source": [
    "mergeddata1.shape"
   ]
  },
  {
   "cell_type": "code",
   "execution_count": 15,
   "metadata": {},
   "outputs": [],
   "source": [
    "mergeddata2=pd.merge(mergeddata1,beneficiary_data, how='left', on=['BeneID'])"
   ]
  },
  {
   "cell_type": "code",
   "execution_count": 16,
   "metadata": {},
   "outputs": [
    {
     "data": {
      "text/plain": [
       "(558211, 54)"
      ]
     },
     "execution_count": 16,
     "metadata": {},
     "output_type": "execute_result"
    }
   ],
   "source": [
    "mergeddata2.shape"
   ]
  },
  {
   "cell_type": "code",
   "execution_count": 17,
   "metadata": {},
   "outputs": [],
   "source": [
    "finaltraindata=pd.merge(mergeddata2,train_data, how='inner',on=['Provider'])"
   ]
  },
  {
   "cell_type": "code",
   "execution_count": 18,
   "metadata": {},
   "outputs": [
    {
     "data": {
      "text/plain": [
       "(558211, 55)"
      ]
     },
     "execution_count": 18,
     "metadata": {},
     "output_type": "execute_result"
    }
   ],
   "source": [
    "finaltraindata.shape"
   ]
  },
  {
   "cell_type": "code",
   "execution_count": 19,
   "metadata": {},
   "outputs": [
    {
     "data": {
      "text/html": [
       "<div>\n",
       "<style scoped>\n",
       "    .dataframe tbody tr th:only-of-type {\n",
       "        vertical-align: middle;\n",
       "    }\n",
       "\n",
       "    .dataframe tbody tr th {\n",
       "        vertical-align: top;\n",
       "    }\n",
       "\n",
       "    .dataframe thead th {\n",
       "        text-align: right;\n",
       "    }\n",
       "</style>\n",
       "<table border=\"1\" class=\"dataframe\">\n",
       "  <thead>\n",
       "    <tr style=\"text-align: right;\">\n",
       "      <th></th>\n",
       "      <th>InscClaimAmtReimbursed</th>\n",
       "      <th>DeductibleAmtPaid</th>\n",
       "      <th>ClmProcedureCode_1</th>\n",
       "      <th>ClmProcedureCode_2</th>\n",
       "      <th>ClmProcedureCode_3</th>\n",
       "      <th>ClmProcedureCode_4</th>\n",
       "      <th>ClmProcedureCode_5</th>\n",
       "      <th>ClmProcedureCode_6</th>\n",
       "      <th>Gender</th>\n",
       "      <th>Race</th>\n",
       "      <th>...</th>\n",
       "      <th>ChronicCond_Depression</th>\n",
       "      <th>ChronicCond_Diabetes</th>\n",
       "      <th>ChronicCond_IschemicHeart</th>\n",
       "      <th>ChronicCond_Osteoporasis</th>\n",
       "      <th>ChronicCond_rheumatoidarthritis</th>\n",
       "      <th>ChronicCond_stroke</th>\n",
       "      <th>IPAnnualReimbursementAmt</th>\n",
       "      <th>IPAnnualDeductibleAmt</th>\n",
       "      <th>OPAnnualReimbursementAmt</th>\n",
       "      <th>OPAnnualDeductibleAmt</th>\n",
       "    </tr>\n",
       "  </thead>\n",
       "  <tbody>\n",
       "    <tr>\n",
       "      <th>count</th>\n",
       "      <td>558211.000000</td>\n",
       "      <td>557312.000000</td>\n",
       "      <td>23310.000000</td>\n",
       "      <td>5490.000000</td>\n",
       "      <td>969.000000</td>\n",
       "      <td>118.000000</td>\n",
       "      <td>9.000000</td>\n",
       "      <td>0.0</td>\n",
       "      <td>558211.000000</td>\n",
       "      <td>558211.000000</td>\n",
       "      <td>...</td>\n",
       "      <td>558211.000000</td>\n",
       "      <td>558211.000000</td>\n",
       "      <td>558211.000000</td>\n",
       "      <td>558211.000000</td>\n",
       "      <td>558211.000000</td>\n",
       "      <td>558211.000000</td>\n",
       "      <td>558211.000000</td>\n",
       "      <td>558211.000000</td>\n",
       "      <td>558211.000000</td>\n",
       "      <td>558211.000000</td>\n",
       "    </tr>\n",
       "    <tr>\n",
       "      <th>mean</th>\n",
       "      <td>997.012133</td>\n",
       "      <td>78.421085</td>\n",
       "      <td>5896.154612</td>\n",
       "      <td>4106.358106</td>\n",
       "      <td>4221.123839</td>\n",
       "      <td>4070.262712</td>\n",
       "      <td>5269.444444</td>\n",
       "      <td>NaN</td>\n",
       "      <td>1.578838</td>\n",
       "      <td>1.255011</td>\n",
       "      <td>...</td>\n",
       "      <td>1.565193</td>\n",
       "      <td>1.294605</td>\n",
       "      <td>1.240735</td>\n",
       "      <td>1.682353</td>\n",
       "      <td>1.688829</td>\n",
       "      <td>1.898280</td>\n",
       "      <td>5227.971466</td>\n",
       "      <td>568.756807</td>\n",
       "      <td>2278.225348</td>\n",
       "      <td>649.698745</td>\n",
       "    </tr>\n",
       "    <tr>\n",
       "      <th>std</th>\n",
       "      <td>3821.534891</td>\n",
       "      <td>274.016812</td>\n",
       "      <td>3050.489933</td>\n",
       "      <td>2031.640878</td>\n",
       "      <td>2281.849885</td>\n",
       "      <td>2037.626990</td>\n",
       "      <td>2780.071632</td>\n",
       "      <td>NaN</td>\n",
       "      <td>0.493746</td>\n",
       "      <td>0.717437</td>\n",
       "      <td>...</td>\n",
       "      <td>0.495732</td>\n",
       "      <td>0.455866</td>\n",
       "      <td>0.427530</td>\n",
       "      <td>0.465562</td>\n",
       "      <td>0.462973</td>\n",
       "      <td>0.302279</td>\n",
       "      <td>11786.274732</td>\n",
       "      <td>1179.172616</td>\n",
       "      <td>3881.846386</td>\n",
       "      <td>1002.020811</td>\n",
       "    </tr>\n",
       "    <tr>\n",
       "      <th>min</th>\n",
       "      <td>0.000000</td>\n",
       "      <td>0.000000</td>\n",
       "      <td>11.000000</td>\n",
       "      <td>42.000000</td>\n",
       "      <td>42.000000</td>\n",
       "      <td>42.000000</td>\n",
       "      <td>2724.000000</td>\n",
       "      <td>NaN</td>\n",
       "      <td>1.000000</td>\n",
       "      <td>1.000000</td>\n",
       "      <td>...</td>\n",
       "      <td>1.000000</td>\n",
       "      <td>1.000000</td>\n",
       "      <td>1.000000</td>\n",
       "      <td>1.000000</td>\n",
       "      <td>1.000000</td>\n",
       "      <td>1.000000</td>\n",
       "      <td>-8000.000000</td>\n",
       "      <td>0.000000</td>\n",
       "      <td>-70.000000</td>\n",
       "      <td>0.000000</td>\n",
       "    </tr>\n",
       "    <tr>\n",
       "      <th>25%</th>\n",
       "      <td>40.000000</td>\n",
       "      <td>0.000000</td>\n",
       "      <td>3848.000000</td>\n",
       "      <td>2724.000000</td>\n",
       "      <td>2724.000000</td>\n",
       "      <td>2754.250000</td>\n",
       "      <td>4139.000000</td>\n",
       "      <td>NaN</td>\n",
       "      <td>1.000000</td>\n",
       "      <td>1.000000</td>\n",
       "      <td>...</td>\n",
       "      <td>1.000000</td>\n",
       "      <td>1.000000</td>\n",
       "      <td>1.000000</td>\n",
       "      <td>1.000000</td>\n",
       "      <td>1.000000</td>\n",
       "      <td>2.000000</td>\n",
       "      <td>0.000000</td>\n",
       "      <td>0.000000</td>\n",
       "      <td>460.000000</td>\n",
       "      <td>120.000000</td>\n",
       "    </tr>\n",
       "    <tr>\n",
       "      <th>50%</th>\n",
       "      <td>80.000000</td>\n",
       "      <td>0.000000</td>\n",
       "      <td>5363.000000</td>\n",
       "      <td>4019.000000</td>\n",
       "      <td>4019.000000</td>\n",
       "      <td>4019.000000</td>\n",
       "      <td>4139.000000</td>\n",
       "      <td>NaN</td>\n",
       "      <td>2.000000</td>\n",
       "      <td>1.000000</td>\n",
       "      <td>...</td>\n",
       "      <td>2.000000</td>\n",
       "      <td>1.000000</td>\n",
       "      <td>1.000000</td>\n",
       "      <td>2.000000</td>\n",
       "      <td>2.000000</td>\n",
       "      <td>2.000000</td>\n",
       "      <td>0.000000</td>\n",
       "      <td>0.000000</td>\n",
       "      <td>1170.000000</td>\n",
       "      <td>340.000000</td>\n",
       "    </tr>\n",
       "    <tr>\n",
       "      <th>75%</th>\n",
       "      <td>300.000000</td>\n",
       "      <td>0.000000</td>\n",
       "      <td>8669.000000</td>\n",
       "      <td>4439.000000</td>\n",
       "      <td>5185.000000</td>\n",
       "      <td>4439.000000</td>\n",
       "      <td>5185.000000</td>\n",
       "      <td>NaN</td>\n",
       "      <td>2.000000</td>\n",
       "      <td>1.000000</td>\n",
       "      <td>...</td>\n",
       "      <td>2.000000</td>\n",
       "      <td>2.000000</td>\n",
       "      <td>1.000000</td>\n",
       "      <td>2.000000</td>\n",
       "      <td>2.000000</td>\n",
       "      <td>2.000000</td>\n",
       "      <td>6000.000000</td>\n",
       "      <td>1068.000000</td>\n",
       "      <td>2590.000000</td>\n",
       "      <td>790.000000</td>\n",
       "    </tr>\n",
       "    <tr>\n",
       "      <th>max</th>\n",
       "      <td>125000.000000</td>\n",
       "      <td>1068.000000</td>\n",
       "      <td>9999.000000</td>\n",
       "      <td>9999.000000</td>\n",
       "      <td>9999.000000</td>\n",
       "      <td>9986.000000</td>\n",
       "      <td>9982.000000</td>\n",
       "      <td>NaN</td>\n",
       "      <td>2.000000</td>\n",
       "      <td>5.000000</td>\n",
       "      <td>...</td>\n",
       "      <td>2.000000</td>\n",
       "      <td>2.000000</td>\n",
       "      <td>2.000000</td>\n",
       "      <td>2.000000</td>\n",
       "      <td>2.000000</td>\n",
       "      <td>2.000000</td>\n",
       "      <td>161470.000000</td>\n",
       "      <td>38272.000000</td>\n",
       "      <td>102960.000000</td>\n",
       "      <td>13840.000000</td>\n",
       "    </tr>\n",
       "  </tbody>\n",
       "</table>\n",
       "<p>8 rows × 29 columns</p>\n",
       "</div>"
      ],
      "text/plain": [
       "       InscClaimAmtReimbursed  DeductibleAmtPaid  ClmProcedureCode_1  \\\n",
       "count           558211.000000      557312.000000        23310.000000   \n",
       "mean               997.012133          78.421085         5896.154612   \n",
       "std               3821.534891         274.016812         3050.489933   \n",
       "min                  0.000000           0.000000           11.000000   \n",
       "25%                 40.000000           0.000000         3848.000000   \n",
       "50%                 80.000000           0.000000         5363.000000   \n",
       "75%                300.000000           0.000000         8669.000000   \n",
       "max             125000.000000        1068.000000         9999.000000   \n",
       "\n",
       "       ClmProcedureCode_2  ClmProcedureCode_3  ClmProcedureCode_4  \\\n",
       "count         5490.000000          969.000000          118.000000   \n",
       "mean          4106.358106         4221.123839         4070.262712   \n",
       "std           2031.640878         2281.849885         2037.626990   \n",
       "min             42.000000           42.000000           42.000000   \n",
       "25%           2724.000000         2724.000000         2754.250000   \n",
       "50%           4019.000000         4019.000000         4019.000000   \n",
       "75%           4439.000000         5185.000000         4439.000000   \n",
       "max           9999.000000         9999.000000         9986.000000   \n",
       "\n",
       "       ClmProcedureCode_5  ClmProcedureCode_6         Gender           Race  \\\n",
       "count            9.000000                 0.0  558211.000000  558211.000000   \n",
       "mean          5269.444444                 NaN       1.578838       1.255011   \n",
       "std           2780.071632                 NaN       0.493746       0.717437   \n",
       "min           2724.000000                 NaN       1.000000       1.000000   \n",
       "25%           4139.000000                 NaN       1.000000       1.000000   \n",
       "50%           4139.000000                 NaN       2.000000       1.000000   \n",
       "75%           5185.000000                 NaN       2.000000       1.000000   \n",
       "max           9982.000000                 NaN       2.000000       5.000000   \n",
       "\n",
       "       ...  ChronicCond_Depression  ChronicCond_Diabetes  \\\n",
       "count  ...           558211.000000         558211.000000   \n",
       "mean   ...                1.565193              1.294605   \n",
       "std    ...                0.495732              0.455866   \n",
       "min    ...                1.000000              1.000000   \n",
       "25%    ...                1.000000              1.000000   \n",
       "50%    ...                2.000000              1.000000   \n",
       "75%    ...                2.000000              2.000000   \n",
       "max    ...                2.000000              2.000000   \n",
       "\n",
       "       ChronicCond_IschemicHeart  ChronicCond_Osteoporasis  \\\n",
       "count              558211.000000             558211.000000   \n",
       "mean                    1.240735                  1.682353   \n",
       "std                     0.427530                  0.465562   \n",
       "min                     1.000000                  1.000000   \n",
       "25%                     1.000000                  1.000000   \n",
       "50%                     1.000000                  2.000000   \n",
       "75%                     1.000000                  2.000000   \n",
       "max                     2.000000                  2.000000   \n",
       "\n",
       "       ChronicCond_rheumatoidarthritis  ChronicCond_stroke  \\\n",
       "count                    558211.000000       558211.000000   \n",
       "mean                          1.688829            1.898280   \n",
       "std                           0.462973            0.302279   \n",
       "min                           1.000000            1.000000   \n",
       "25%                           1.000000            2.000000   \n",
       "50%                           2.000000            2.000000   \n",
       "75%                           2.000000            2.000000   \n",
       "max                           2.000000            2.000000   \n",
       "\n",
       "       IPAnnualReimbursementAmt  IPAnnualDeductibleAmt  \\\n",
       "count             558211.000000          558211.000000   \n",
       "mean                5227.971466             568.756807   \n",
       "std                11786.274732            1179.172616   \n",
       "min                -8000.000000               0.000000   \n",
       "25%                    0.000000               0.000000   \n",
       "50%                    0.000000               0.000000   \n",
       "75%                 6000.000000            1068.000000   \n",
       "max               161470.000000           38272.000000   \n",
       "\n",
       "       OPAnnualReimbursementAmt  OPAnnualDeductibleAmt  \n",
       "count             558211.000000          558211.000000  \n",
       "mean                2278.225348             649.698745  \n",
       "std                 3881.846386            1002.020811  \n",
       "min                  -70.000000               0.000000  \n",
       "25%                  460.000000             120.000000  \n",
       "50%                 1170.000000             340.000000  \n",
       "75%                 2590.000000             790.000000  \n",
       "max               102960.000000           13840.000000  \n",
       "\n",
       "[8 rows x 29 columns]"
      ]
     },
     "execution_count": 19,
     "metadata": {},
     "output_type": "execute_result"
    }
   ],
   "source": [
    "finaltraindata.describe()"
   ]
  },
  {
   "cell_type": "code",
   "execution_count": 20,
   "metadata": {},
   "outputs": [
    {
     "data": {
      "text/plain": [
       "BeneID                              object\n",
       "ClaimID                             object\n",
       "ClaimStartDt                        object\n",
       "ClaimEndDt                          object\n",
       "Provider                            object\n",
       "InscClaimAmtReimbursed               int64\n",
       "AttendingPhysician                  object\n",
       "OperatingPhysician                  object\n",
       "OtherPhysician                      object\n",
       "AdmissionDt                         object\n",
       "ClmAdmitDiagnosisCode               object\n",
       "DeductibleAmtPaid                  float64\n",
       "DischargeDt                         object\n",
       "DiagnosisGroupCode                  object\n",
       "ClmDiagnosisCode_1                  object\n",
       "ClmDiagnosisCode_2                  object\n",
       "ClmDiagnosisCode_3                  object\n",
       "ClmDiagnosisCode_4                  object\n",
       "ClmDiagnosisCode_5                  object\n",
       "ClmDiagnosisCode_6                  object\n",
       "ClmDiagnosisCode_7                  object\n",
       "ClmDiagnosisCode_8                  object\n",
       "ClmDiagnosisCode_9                  object\n",
       "ClmDiagnosisCode_10                 object\n",
       "ClmProcedureCode_1                 float64\n",
       "ClmProcedureCode_2                 float64\n",
       "ClmProcedureCode_3                 float64\n",
       "ClmProcedureCode_4                 float64\n",
       "ClmProcedureCode_5                 float64\n",
       "ClmProcedureCode_6                 float64\n",
       "DOB                                 object\n",
       "DOD                                 object\n",
       "Gender                               int64\n",
       "Race                                 int64\n",
       "RenalDiseaseIndicator               object\n",
       "State                                int64\n",
       "County                               int64\n",
       "NoOfMonths_PartACov                  int64\n",
       "NoOfMonths_PartBCov                  int64\n",
       "ChronicCond_Alzheimer                int64\n",
       "ChronicCond_Heartfailure             int64\n",
       "ChronicCond_KidneyDisease            int64\n",
       "ChronicCond_Cancer                   int64\n",
       "ChronicCond_ObstrPulmonary           int64\n",
       "ChronicCond_Depression               int64\n",
       "ChronicCond_Diabetes                 int64\n",
       "ChronicCond_IschemicHeart            int64\n",
       "ChronicCond_Osteoporasis             int64\n",
       "ChronicCond_rheumatoidarthritis      int64\n",
       "ChronicCond_stroke                   int64\n",
       "IPAnnualReimbursementAmt             int64\n",
       "IPAnnualDeductibleAmt                int64\n",
       "OPAnnualReimbursementAmt             int64\n",
       "OPAnnualDeductibleAmt                int64\n",
       "PotentialFraud                      object\n",
       "dtype: object"
      ]
     },
     "execution_count": 20,
     "metadata": {},
     "output_type": "execute_result"
    }
   ],
   "source": [
    "finaltraindata.dtypes"
   ]
  },
  {
   "cell_type": "markdown",
   "metadata": {},
   "source": [
    "## Feature Engineering\n",
    "- Extracting No.Of ClaimDays"
   ]
  },
  {
   "cell_type": "code",
   "execution_count": 21,
   "metadata": {},
   "outputs": [],
   "source": [
    "from datetime import datetime\n",
    "date_format = \"%d/%m/%Y\"\n",
    "from datetime import date"
   ]
  },
  {
   "cell_type": "code",
   "execution_count": 22,
   "metadata": {},
   "outputs": [],
   "source": [
    "finaltraindata.ClaimStartDt = pd.to_datetime(finaltraindata.ClaimStartDt)\n",
    "finaltraindata.ClaimEndDt = pd.to_datetime(finaltraindata.ClaimEndDt)"
   ]
  },
  {
   "cell_type": "code",
   "execution_count": 23,
   "metadata": {},
   "outputs": [],
   "source": [
    "finaltraindata['No_of_claimdays']=finaltraindata['ClaimEndDt']-finaltraindata['ClaimStartDt']"
   ]
  },
  {
   "cell_type": "code",
   "execution_count": 24,
   "metadata": {},
   "outputs": [
    {
     "data": {
      "text/plain": [
       "0    6 days\n",
       "1   12 days\n",
       "2   18 days\n",
       "3    4 days\n",
       "4    4 days\n",
       "Name: No_of_claimdays, dtype: timedelta64[ns]"
      ]
     },
     "execution_count": 24,
     "metadata": {},
     "output_type": "execute_result"
    }
   ],
   "source": [
    "finaltraindata['No_of_claimdays'].head(5)"
   ]
  },
  {
   "cell_type": "markdown",
   "metadata": {},
   "source": [
    "- Extracting Days in Hospital"
   ]
  },
  {
   "cell_type": "code",
   "execution_count": 25,
   "metadata": {},
   "outputs": [],
   "source": [
    "finaltraindata.AdmissionDt = pd.to_datetime(finaltraindata.AdmissionDt)\n",
    "finaltraindata.DischargeDt = pd.to_datetime(finaltraindata.DischargeDt)"
   ]
  },
  {
   "cell_type": "code",
   "execution_count": 26,
   "metadata": {},
   "outputs": [],
   "source": [
    "finaltraindata['Days_in_Hospital']=finaltraindata['DischargeDt']-finaltraindata['AdmissionDt']"
   ]
  },
  {
   "cell_type": "code",
   "execution_count": 27,
   "metadata": {},
   "outputs": [
    {
     "data": {
      "text/plain": [
       "0    6 days\n",
       "1   12 days\n",
       "2   18 days\n",
       "3    4 days\n",
       "4    4 days\n",
       "Name: Days_in_Hospital, dtype: timedelta64[ns]"
      ]
     },
     "execution_count": 27,
     "metadata": {},
     "output_type": "execute_result"
    }
   ],
   "source": [
    "finaltraindata['Days_in_Hospital'].head(5)"
   ]
  },
  {
   "cell_type": "code",
   "execution_count": 28,
   "metadata": {},
   "outputs": [
    {
     "data": {
      "text/plain": [
       "False"
      ]
     },
     "execution_count": 28,
     "metadata": {},
     "output_type": "execute_result"
    }
   ],
   "source": [
    "finaltraindata['Days_in_Hospital'].equals(finaltraindata['No_of_claimdays'])"
   ]
  },
  {
   "cell_type": "code",
   "execution_count": 29,
   "metadata": {},
   "outputs": [
    {
     "data": {
      "text/plain": [
       "20790    NaT\n",
       "300655   NaT\n",
       "127847   NaT\n",
       "356275   NaT\n",
       "367241   NaT\n",
       "Name: Days_in_Hospital, dtype: timedelta64[ns]"
      ]
     },
     "execution_count": 29,
     "metadata": {},
     "output_type": "execute_result"
    }
   ],
   "source": [
    "finaltraindata['Days_in_Hospital'].sample(5)"
   ]
  },
  {
   "cell_type": "markdown",
   "metadata": {},
   "source": [
    " - Extracting Age"
   ]
  },
  {
   "cell_type": "code",
   "execution_count": 30,
   "metadata": {},
   "outputs": [
    {
     "data": {
      "text/plain": [
       "0   1943-01-01\n",
       "1   1913-12-01\n",
       "2   1922-10-01\n",
       "3   1930-07-01\n",
       "4   1925-09-01\n",
       "Name: DOB, dtype: datetime64[ns]"
      ]
     },
     "execution_count": 30,
     "metadata": {},
     "output_type": "execute_result"
    }
   ],
   "source": [
    "finaltraindata.DOB = pd.to_datetime(finaltraindata.DOB)\n",
    "finaltraindata['DOB'].head(5)"
   ]
  },
  {
   "cell_type": "code",
   "execution_count": 31,
   "metadata": {},
   "outputs": [
    {
     "data": {
      "text/plain": [
       "4131"
      ]
     },
     "execution_count": 31,
     "metadata": {},
     "output_type": "execute_result"
    }
   ],
   "source": [
    "finaltraindata['DOD'].count()"
   ]
  },
  {
   "cell_type": "markdown",
   "metadata": {},
   "source": [
    "-- filling remaining values with a date to calculate age"
   ]
  },
  {
   "cell_type": "code",
   "execution_count": 32,
   "metadata": {},
   "outputs": [],
   "source": [
    "finaltraindata['DOD']=finaltraindata['DOD'].fillna('2009-12-31')"
   ]
  },
  {
   "cell_type": "code",
   "execution_count": 33,
   "metadata": {},
   "outputs": [],
   "source": [
    "finaltraindata['DOD'] = pd.to_datetime(finaltraindata.DOD)"
   ]
  },
  {
   "cell_type": "code",
   "execution_count": 34,
   "metadata": {},
   "outputs": [],
   "source": [
    "finaltraindata['Age'] = finaltraindata['DOD']-finaltraindata['DOB'] \n",
    "finaltraindata['Age'] = ((finaltraindata['DOD'] - finaltraindata['DOB'])/365).dt.days "
   ]
  },
  {
   "cell_type": "markdown",
   "metadata": {},
   "source": [
    "-- Removing the Columns after extracting the features from them"
   ]
  },
  {
   "cell_type": "code",
   "execution_count": 35,
   "metadata": {},
   "outputs": [],
   "source": [
    "finaltraindata=finaltraindata.drop(['ClaimStartDt','ClaimEndDt','AdmissionDt','DischargeDt','DOB','DOD'],axis=1)"
   ]
  },
  {
   "cell_type": "code",
   "execution_count": 36,
   "metadata": {},
   "outputs": [
    {
     "data": {
      "text/plain": [
       "BeneID                                      object\n",
       "ClaimID                                     object\n",
       "Provider                                    object\n",
       "InscClaimAmtReimbursed                       int64\n",
       "AttendingPhysician                          object\n",
       "OperatingPhysician                          object\n",
       "OtherPhysician                              object\n",
       "ClmAdmitDiagnosisCode                       object\n",
       "DeductibleAmtPaid                          float64\n",
       "DiagnosisGroupCode                          object\n",
       "ClmDiagnosisCode_1                          object\n",
       "ClmDiagnosisCode_2                          object\n",
       "ClmDiagnosisCode_3                          object\n",
       "ClmDiagnosisCode_4                          object\n",
       "ClmDiagnosisCode_5                          object\n",
       "ClmDiagnosisCode_6                          object\n",
       "ClmDiagnosisCode_7                          object\n",
       "ClmDiagnosisCode_8                          object\n",
       "ClmDiagnosisCode_9                          object\n",
       "ClmDiagnosisCode_10                         object\n",
       "ClmProcedureCode_1                         float64\n",
       "ClmProcedureCode_2                         float64\n",
       "ClmProcedureCode_3                         float64\n",
       "ClmProcedureCode_4                         float64\n",
       "ClmProcedureCode_5                         float64\n",
       "ClmProcedureCode_6                         float64\n",
       "Gender                                       int64\n",
       "Race                                         int64\n",
       "RenalDiseaseIndicator                       object\n",
       "State                                        int64\n",
       "County                                       int64\n",
       "NoOfMonths_PartACov                          int64\n",
       "NoOfMonths_PartBCov                          int64\n",
       "ChronicCond_Alzheimer                        int64\n",
       "ChronicCond_Heartfailure                     int64\n",
       "ChronicCond_KidneyDisease                    int64\n",
       "ChronicCond_Cancer                           int64\n",
       "ChronicCond_ObstrPulmonary                   int64\n",
       "ChronicCond_Depression                       int64\n",
       "ChronicCond_Diabetes                         int64\n",
       "ChronicCond_IschemicHeart                    int64\n",
       "ChronicCond_Osteoporasis                     int64\n",
       "ChronicCond_rheumatoidarthritis              int64\n",
       "ChronicCond_stroke                           int64\n",
       "IPAnnualReimbursementAmt                     int64\n",
       "IPAnnualDeductibleAmt                        int64\n",
       "OPAnnualReimbursementAmt                     int64\n",
       "OPAnnualDeductibleAmt                        int64\n",
       "PotentialFraud                              object\n",
       "No_of_claimdays                    timedelta64[ns]\n",
       "Days_in_Hospital                   timedelta64[ns]\n",
       "Age                                          int64\n",
       "dtype: object"
      ]
     },
     "execution_count": 36,
     "metadata": {},
     "output_type": "execute_result"
    }
   ],
   "source": [
    "finaltraindata.dtypes"
   ]
  },
  {
   "cell_type": "markdown",
   "metadata": {},
   "source": [
    "## Type Conversion"
   ]
  },
  {
   "cell_type": "code",
   "execution_count": 37,
   "metadata": {},
   "outputs": [],
   "source": [
    "finaltraindata['DeductibleAmtPaid']= finaltraindata['DeductibleAmtPaid'].fillna(finaltraindata['DeductibleAmtPaid'].mean())"
   ]
  },
  {
   "cell_type": "code",
   "execution_count": 38,
   "metadata": {},
   "outputs": [],
   "source": [
    "\n",
    "finaltraindata.No_of_claimdays= finaltraindata.No_of_claimdays.astype('int64')\n",
    "finaltraindata.DeductibleAmtPaid = finaltraindata.DeductibleAmtPaid.astype('int64')"
   ]
  },
  {
   "cell_type": "code",
   "execution_count": 39,
   "metadata": {},
   "outputs": [],
   "source": [
    "catcol = ('Race','Gender','RenalDiseaseIndicator','Provider','State','County','ChronicCond_Alzheimer',\n",
    "          'ChronicCond_Heartfailure','ChronicCond_KidneyDisease','ChronicCond_Cancer','ChronicCond_ObstrPulmonary',\n",
    "          'ChronicCond_Depression','ChronicCond_Diabetes','ChronicCond_IschemicHeart','ChronicCond_Osteoporasis',\n",
    "          'ChronicCond_rheumatoidarthritis','ChronicCond_stroke','PotentialFraud')"
   ]
  },
  {
   "cell_type": "code",
   "execution_count": 40,
   "metadata": {},
   "outputs": [],
   "source": [
    "for i in catcol:\n",
    "    finaltraindata[i] = finaltraindata[i].astype('category')"
   ]
  },
  {
   "cell_type": "code",
   "execution_count": 41,
   "metadata": {},
   "outputs": [
    {
     "data": {
      "text/plain": [
       "BeneID                                      object\n",
       "ClaimID                                     object\n",
       "Provider                                  category\n",
       "InscClaimAmtReimbursed                       int64\n",
       "AttendingPhysician                          object\n",
       "OperatingPhysician                          object\n",
       "OtherPhysician                              object\n",
       "ClmAdmitDiagnosisCode                       object\n",
       "DeductibleAmtPaid                            int64\n",
       "DiagnosisGroupCode                          object\n",
       "ClmDiagnosisCode_1                          object\n",
       "ClmDiagnosisCode_2                          object\n",
       "ClmDiagnosisCode_3                          object\n",
       "ClmDiagnosisCode_4                          object\n",
       "ClmDiagnosisCode_5                          object\n",
       "ClmDiagnosisCode_6                          object\n",
       "ClmDiagnosisCode_7                          object\n",
       "ClmDiagnosisCode_8                          object\n",
       "ClmDiagnosisCode_9                          object\n",
       "ClmDiagnosisCode_10                         object\n",
       "ClmProcedureCode_1                         float64\n",
       "ClmProcedureCode_2                         float64\n",
       "ClmProcedureCode_3                         float64\n",
       "ClmProcedureCode_4                         float64\n",
       "ClmProcedureCode_5                         float64\n",
       "ClmProcedureCode_6                         float64\n",
       "Gender                                    category\n",
       "Race                                      category\n",
       "RenalDiseaseIndicator                     category\n",
       "State                                     category\n",
       "County                                    category\n",
       "NoOfMonths_PartACov                          int64\n",
       "NoOfMonths_PartBCov                          int64\n",
       "ChronicCond_Alzheimer                     category\n",
       "ChronicCond_Heartfailure                  category\n",
       "ChronicCond_KidneyDisease                 category\n",
       "ChronicCond_Cancer                        category\n",
       "ChronicCond_ObstrPulmonary                category\n",
       "ChronicCond_Depression                    category\n",
       "ChronicCond_Diabetes                      category\n",
       "ChronicCond_IschemicHeart                 category\n",
       "ChronicCond_Osteoporasis                  category\n",
       "ChronicCond_rheumatoidarthritis           category\n",
       "ChronicCond_stroke                        category\n",
       "IPAnnualReimbursementAmt                     int64\n",
       "IPAnnualDeductibleAmt                        int64\n",
       "OPAnnualReimbursementAmt                     int64\n",
       "OPAnnualDeductibleAmt                        int64\n",
       "PotentialFraud                            category\n",
       "No_of_claimdays                              int64\n",
       "Days_in_Hospital                   timedelta64[ns]\n",
       "Age                                          int64\n",
       "dtype: object"
      ]
     },
     "execution_count": 41,
     "metadata": {},
     "output_type": "execute_result"
    }
   ],
   "source": [
    "finaltraindata.dtypes"
   ]
  },
  {
   "cell_type": "markdown",
   "metadata": {},
   "source": [
    "## Data Analysis"
   ]
  },
  {
   "cell_type": "code",
   "execution_count": 42,
   "metadata": {},
   "outputs": [
    {
     "data": {
      "text/plain": [
       "No     345415\n",
       "Yes    212796\n",
       "Name: PotentialFraud, dtype: int64"
      ]
     },
     "execution_count": 42,
     "metadata": {},
     "output_type": "execute_result"
    }
   ],
   "source": [
    "finaltraindata['PotentialFraud'].value_counts()"
   ]
  },
  {
   "cell_type": "code",
   "execution_count": 43,
   "metadata": {},
   "outputs": [
    {
     "data": {
      "text/plain": [
       "Text(0, 0.5, 'No. of Claims')"
      ]
     },
     "execution_count": 43,
     "metadata": {},
     "output_type": "execute_result"
    },
    {
     "data": {
      "image/png": "[encoded data removed]",
      "text/plain": [
       "<Figure size 432x288 with 1 Axes>"
      ]
     },
     "metadata": {
      "needs_background": "light"
     },
     "output_type": "display_data"
    }
   ],
   "source": [
    "sns.countplot(x='PotentialFraud',data=finaltraindata,palette='Set1')\n",
    "plt.title(\"Count of Target Variable \")\n",
    "plt.xlabel('Potential Fraud')\n",
    "plt.ylabel('No. of Claims')"
   ]
  },
  {
   "cell_type": "markdown",
   "metadata": {},
   "source": [
    "## We can see that total no. of FRAUD claims are significant and accounts upto 40% of total claims"
   ]
  },
  {
   "cell_type": "code",
   "execution_count": 44,
   "metadata": {},
   "outputs": [
    {
     "data": {
      "text/plain": [
       "Text(0, 0.5, 'No. of People')"
      ]
     },
     "execution_count": 44,
     "metadata": {},
     "output_type": "execute_result"
    },
    {
     "data": {
      "image/png": "[encoded data removed]",
      "text/plain": [
       "<Figure size 432x288 with 1 Axes>"
      ]
     },
     "metadata": {
      "needs_background": "light"
     },
     "output_type": "display_data"
    }
   ],
   "source": [
    "sns.countplot(x=\"Race\",hue=\"PotentialFraud\",palette='Set2',data=finaltraindata)\n",
    "plt.title(\"Claims Across Different Races\")\n",
    "plt.xlabel('Race')\n",
    "plt.ylabel('No. of People')"
   ]
  },
  {
   "cell_type": "markdown",
   "metadata": {},
   "source": [
    "## Claims belonging to Race 3 having high probality of being Fraud"
   ]
  },
  {
   "cell_type": "code",
   "execution_count": 45,
   "metadata": {},
   "outputs": [
    {
     "data": {
      "text/plain": [
       "Text(0.5, 1.0, 'Distribution of Beneficiaries among Different Age Groups')"
      ]
     },
     "execution_count": 45,
     "metadata": {},
     "output_type": "execute_result"
    },
    {
     "data": {
      "image/png": "[encoded data removed]",
      "text/plain": [
       "<Figure size 432x288 with 1 Axes>"
      ]
     },
     "metadata": {
      "needs_background": "light"
     },
     "output_type": "display_data"
    }
   ],
   "source": [
    "sns.distplot(finaltraindata['Age'])\n",
    "plt.title('Distribution of Beneficiaries among Different Age Groups')"
   ]
  },
  {
   "cell_type": "markdown",
   "metadata": {},
   "source": [
    "## Insurance Claims are mostly taken from the age group of 65-90"
   ]
  },
  {
   "cell_type": "code",
   "execution_count": 46,
   "metadata": {},
   "outputs": [
    {
     "data": {
      "text/plain": [
       "Text(0.5, 1.0, 'Insurance Amount Reimbursed w.r.t Gender')"
      ]
     },
     "execution_count": 46,
     "metadata": {},
     "output_type": "execute_result"
    },
    {
     "data": {
      "image/png": "[encoded data removed]",
      "text/plain": [
       "<Figure size 432x288 with 1 Axes>"
      ]
     },
     "metadata": {
      "needs_background": "light"
     },
     "output_type": "display_data"
    }
   ],
   "source": [
    "sns.stripplot(x=\"Gender\", y=\"InscClaimAmtReimbursed\", data=finaltraindata,jitter=True,hue='PotentialFraud',palette='Set1')\n",
    "plt.title('Insurance Amount Reimbursed w.r.t Gender')"
   ]
  },
  {
   "cell_type": "markdown",
   "metadata": {},
   "source": [
    "## Insurance Fraud is seen in both the Gender"
   ]
  },
  {
   "cell_type": "markdown",
   "metadata": {},
   "source": [
    "## And if the Amount to be Reimbursed greater than 60000 for a claim, It has higher probability of Being a Fraud"
   ]
  },
  {
   "cell_type": "code",
   "execution_count": 47,
   "metadata": {},
   "outputs": [
    {
     "data": {
      "text/plain": [
       "Text(0.5, 1.0, 'Claims Across States')"
      ]
     },
     "execution_count": 47,
     "metadata": {},
     "output_type": "execute_result"
    },
    {
     "data": {
      "image/png": "[encoded data removed]",
      "text/plain": [
       "<Figure size 1440x288 with 1 Axes>"
      ]
     },
     "metadata": {
      "needs_background": "light"
     },
     "output_type": "display_data"
    }
   ],
   "source": [
    "plt.figure(figsize=(20,4))\n",
    "sns.countplot(x='State',hue=\"PotentialFraud\",data=finaltraindata)\n",
    "plt.title('Claims Across States')"
   ]
  },
  {
   "cell_type": "markdown",
   "metadata": {},
   "source": [
    "## Claims in State 5 & 33 are having higher probability of being Fraud "
   ]
  },
  {
   "cell_type": "code",
   "execution_count": 48,
   "metadata": {},
   "outputs": [
    {
     "data": {
      "text/plain": [
       "Text(0.5, 1.0, 'Claims w.r.t IP annual reimbursement amount')"
      ]
     },
     "execution_count": 48,
     "metadata": {},
     "output_type": "execute_result"
    },
    {
     "data": {
      "image/png": "[encoded data removed]",
      "text/plain": [
       "<Figure size 432x288 with 1 Axes>"
      ]
     },
     "metadata": {
      "needs_background": "light"
     },
     "output_type": "display_data"
    }
   ],
   "source": [
    "from numpy import median,mean\n",
    "sns.barplot(x=\"PotentialFraud\", y=\"IPAnnualReimbursementAmt\", data=finaltraindata, estimator=mean)\n",
    "plt.title('Claims w.r.t IP annual reimbursement amount')"
   ]
  },
  {
   "cell_type": "markdown",
   "metadata": {},
   "source": [
    "## If the Annual Reimbursement Amount for a provider is greater than 50000 the claims of the respective provider seems to be Fraud"
   ]
  },
  {
   "cell_type": "code",
   "execution_count": null,
   "metadata": {},
   "outputs": [],
   "source": []
  }
 ],
 "metadata": {
  "kernelspec": {
   "display_name": "Python 3",
   "language": "python",
   "name": "python3"
  },
  "language_info": {
   "codemirror_mode": {
    "name": "ipython",
    "version": 3
   },
   "file_extension": ".py",
   "mimetype": "text/x-python",
   "name": "python",
   "nbconvert_exporter": "python",
   "pygments_lexer": "ipython3",
   "version": "3.7.1"
  }
 },
 "nbformat": 4,
 "nbformat_minor": 4
}
